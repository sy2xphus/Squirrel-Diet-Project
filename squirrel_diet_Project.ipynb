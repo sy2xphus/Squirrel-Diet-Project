{
 "cells": [
  {
   "cell_type": "markdown",
   "id": "5e77b972",
   "metadata": {},
   "source": [
    "<h2>Squirrel Diet Project</h2>"
   ]
  },
  {
   "cell_type": "markdown",
   "id": "9bc4176d",
   "metadata": {},
   "source": [
    "This project based on  results of a mock study where 100 red squirrels were given one of three different diets after weaning, and their full grown adult weights were recorded. The figure below displays the results of the study, and this is the figure that I am going to recreate on my own."
   ]
  },
  {
   "cell_type": "markdown",
   "id": "8ca7aedf",
   "metadata": {},
   "source": [
    "![Image of Figure](https://practicum-content.s3.us-west-1.amazonaws.com/resources/dataviz_finalproject_1678790840.png)"
   ]
  },
  {
   "cell_type": "markdown",
   "id": "91de8151",
   "metadata": {},
   "source": [
    "<h3>Project guidelines</h3>"
   ]
  },
  {
   "cell_type": "markdown",
   "id": "10b4e8b3",
   "metadata": {},
   "source": [
    "I have to recreate the figure as closely as possible, which entails the same:\n",
    "<ul>\n",
    "    <li>Title and axis labels</li>\n",
    "    <li>Axis ticks and ranges</li>\n",
    "    <li>Legend</li>\n",
    "   <li>Magenta and green data points (colors don’t need to be exact)</li>\n",
    "    <li>Grouping and presentation of the data</li>\n",
    "</ul>"
   ]
  },
  {
   "cell_type": "markdown",
   "id": "f58a5e22",
   "metadata": {},
   "source": [
    "<h3>Data Preprocessing</h3>"
   ]
  },
  {
   "cell_type": "code",
   "execution_count": 1,
   "id": "cac29251",
   "metadata": {},
   "outputs": [],
   "source": [
    "#importing necessary libraries\n",
    "import pandas as pd\n",
    "import matplotlib.pyplot as plt\n",
    "import seaborn as sns"
   ]
  },
  {
   "cell_type": "code",
   "execution_count": 2,
   "id": "f0a50e5d",
   "metadata": {},
   "outputs": [
    {
     "data": {
      "text/html": [
       "<div>\n",
       "<style scoped>\n",
       "    .dataframe tbody tr th:only-of-type {\n",
       "        vertical-align: middle;\n",
       "    }\n",
       "\n",
       "    .dataframe tbody tr th {\n",
       "        vertical-align: top;\n",
       "    }\n",
       "\n",
       "    .dataframe thead th {\n",
       "        text-align: right;\n",
       "    }\n",
       "</style>\n",
       "<table border=\"1\" class=\"dataframe\">\n",
       "  <thead>\n",
       "    <tr style=\"text-align: right;\">\n",
       "      <th></th>\n",
       "      <th>sex</th>\n",
       "      <th>diet</th>\n",
       "      <th>weight</th>\n",
       "    </tr>\n",
       "  </thead>\n",
       "  <tbody>\n",
       "    <tr>\n",
       "      <th>0</th>\n",
       "      <td>0</td>\n",
       "      <td>3</td>\n",
       "      <td>1.042</td>\n",
       "    </tr>\n",
       "    <tr>\n",
       "      <th>1</th>\n",
       "      <td>1</td>\n",
       "      <td>3</td>\n",
       "      <td>1.196</td>\n",
       "    </tr>\n",
       "    <tr>\n",
       "      <th>2</th>\n",
       "      <td>1</td>\n",
       "      <td>2</td>\n",
       "      <td>1.401</td>\n",
       "    </tr>\n",
       "    <tr>\n",
       "      <th>3</th>\n",
       "      <td>1</td>\n",
       "      <td>1</td>\n",
       "      <td>1.015</td>\n",
       "    </tr>\n",
       "    <tr>\n",
       "      <th>4</th>\n",
       "      <td>0</td>\n",
       "      <td>2</td>\n",
       "      <td>1.141</td>\n",
       "    </tr>\n",
       "    <tr>\n",
       "      <th>...</th>\n",
       "      <td>...</td>\n",
       "      <td>...</td>\n",
       "      <td>...</td>\n",
       "    </tr>\n",
       "    <tr>\n",
       "      <th>95</th>\n",
       "      <td>0</td>\n",
       "      <td>1</td>\n",
       "      <td>0.995</td>\n",
       "    </tr>\n",
       "    <tr>\n",
       "      <th>96</th>\n",
       "      <td>1</td>\n",
       "      <td>2</td>\n",
       "      <td>1.979</td>\n",
       "    </tr>\n",
       "    <tr>\n",
       "      <th>97</th>\n",
       "      <td>0</td>\n",
       "      <td>3</td>\n",
       "      <td>1.099</td>\n",
       "    </tr>\n",
       "    <tr>\n",
       "      <th>98</th>\n",
       "      <td>0</td>\n",
       "      <td>2</td>\n",
       "      <td>1.327</td>\n",
       "    </tr>\n",
       "    <tr>\n",
       "      <th>99</th>\n",
       "      <td>1</td>\n",
       "      <td>1</td>\n",
       "      <td>0.990</td>\n",
       "    </tr>\n",
       "  </tbody>\n",
       "</table>\n",
       "<p>100 rows × 3 columns</p>\n",
       "</div>"
      ],
      "text/plain": [
       "    sex  diet  weight\n",
       "0     0     3   1.042\n",
       "1     1     3   1.196\n",
       "2     1     2   1.401\n",
       "3     1     1   1.015\n",
       "4     0     2   1.141\n",
       "..  ...   ...     ...\n",
       "95    0     1   0.995\n",
       "96    1     2   1.979\n",
       "97    0     3   1.099\n",
       "98    0     2   1.327\n",
       "99    1     1   0.990\n",
       "\n",
       "[100 rows x 3 columns]"
      ]
     },
     "execution_count": 2,
     "metadata": {},
     "output_type": "execute_result"
    }
   ],
   "source": [
    "#reading dataset\n",
    "try:\n",
    "    squirrel = pd.read_csv('~/Documents/Studying/datasets/squirrel_diet.csv')\n",
    "\n",
    "except FileNotFoundError:\n",
    "    squirrel = pd.read_csv('/datasets/squirrel_diet.csv')\n",
    "    \n",
    "squirrel"
   ]
  },
  {
   "cell_type": "code",
   "execution_count": 3,
   "id": "58a54197",
   "metadata": {},
   "outputs": [
    {
     "name": "stdout",
     "output_type": "stream",
     "text": [
      "<class 'pandas.core.frame.DataFrame'>\n",
      "RangeIndex: 100 entries, 0 to 99\n",
      "Data columns (total 3 columns):\n",
      " #   Column  Non-Null Count  Dtype  \n",
      "---  ------  --------------  -----  \n",
      " 0   sex     100 non-null    int64  \n",
      " 1   diet    100 non-null    int64  \n",
      " 2   weight  100 non-null    float64\n",
      "dtypes: float64(1), int64(2)\n",
      "memory usage: 2.5 KB\n"
     ]
    }
   ],
   "source": [
    "#gathering info of dataset\n",
    "squirrel.info()"
   ]
  },
  {
   "cell_type": "markdown",
   "id": "3f38712d",
   "metadata": {},
   "source": [
    "All column headers formatted in the same correct style."
   ]
  },
  {
   "cell_type": "code",
   "execution_count": 4,
   "id": "9b0d7005",
   "metadata": {},
   "outputs": [
    {
     "data": {
      "text/plain": [
       "0"
      ]
     },
     "execution_count": 4,
     "metadata": {},
     "output_type": "execute_result"
    }
   ],
   "source": [
    "#checking for duplicates\n",
    "squirrel.duplicated().sum()"
   ]
  },
  {
   "cell_type": "markdown",
   "id": "9a6f2a55",
   "metadata": {},
   "source": [
    "In our dataset there are no duplicates."
   ]
  },
  {
   "cell_type": "code",
   "execution_count": 5,
   "id": "9787100d",
   "metadata": {},
   "outputs": [
    {
     "data": {
      "text/plain": [
       "sex       0\n",
       "diet      0\n",
       "weight    0\n",
       "dtype: int64"
      ]
     },
     "execution_count": 5,
     "metadata": {},
     "output_type": "execute_result"
    }
   ],
   "source": [
    "#checking for missing values\n",
    "squirrel.isna().sum()"
   ]
  },
  {
   "cell_type": "markdown",
   "id": "4c412c2c",
   "metadata": {},
   "source": [
    "In our dataset there are no missing values."
   ]
  },
  {
   "cell_type": "markdown",
   "id": "58292bc6",
   "metadata": {},
   "source": [
    "<h3>Figure recreating</h3>"
   ]
  },
  {
   "cell_type": "code",
   "execution_count": 6,
   "id": "384465e0",
   "metadata": {},
   "outputs": [
    {
     "data": {
      "text/html": [
       "<div>\n",
       "<style scoped>\n",
       "    .dataframe tbody tr th:only-of-type {\n",
       "        vertical-align: middle;\n",
       "    }\n",
       "\n",
       "    .dataframe tbody tr th {\n",
       "        vertical-align: top;\n",
       "    }\n",
       "\n",
       "    .dataframe thead th {\n",
       "        text-align: right;\n",
       "    }\n",
       "</style>\n",
       "<table border=\"1\" class=\"dataframe\">\n",
       "  <thead>\n",
       "    <tr style=\"text-align: right;\">\n",
       "      <th></th>\n",
       "      <th>sex</th>\n",
       "      <th>diet</th>\n",
       "      <th>weight</th>\n",
       "      <th>squirrel_sex</th>\n",
       "    </tr>\n",
       "  </thead>\n",
       "  <tbody>\n",
       "    <tr>\n",
       "      <th>0</th>\n",
       "      <td>0</td>\n",
       "      <td>3</td>\n",
       "      <td>1.042</td>\n",
       "      <td>Female</td>\n",
       "    </tr>\n",
       "    <tr>\n",
       "      <th>1</th>\n",
       "      <td>1</td>\n",
       "      <td>3</td>\n",
       "      <td>1.196</td>\n",
       "      <td>Male</td>\n",
       "    </tr>\n",
       "    <tr>\n",
       "      <th>2</th>\n",
       "      <td>1</td>\n",
       "      <td>2</td>\n",
       "      <td>1.401</td>\n",
       "      <td>Male</td>\n",
       "    </tr>\n",
       "    <tr>\n",
       "      <th>3</th>\n",
       "      <td>1</td>\n",
       "      <td>1</td>\n",
       "      <td>1.015</td>\n",
       "      <td>Male</td>\n",
       "    </tr>\n",
       "    <tr>\n",
       "      <th>4</th>\n",
       "      <td>0</td>\n",
       "      <td>2</td>\n",
       "      <td>1.141</td>\n",
       "      <td>Female</td>\n",
       "    </tr>\n",
       "    <tr>\n",
       "      <th>5</th>\n",
       "      <td>1</td>\n",
       "      <td>2</td>\n",
       "      <td>1.113</td>\n",
       "      <td>Male</td>\n",
       "    </tr>\n",
       "    <tr>\n",
       "      <th>6</th>\n",
       "      <td>1</td>\n",
       "      <td>3</td>\n",
       "      <td>1.213</td>\n",
       "      <td>Male</td>\n",
       "    </tr>\n",
       "    <tr>\n",
       "      <th>7</th>\n",
       "      <td>0</td>\n",
       "      <td>3</td>\n",
       "      <td>1.132</td>\n",
       "      <td>Female</td>\n",
       "    </tr>\n",
       "    <tr>\n",
       "      <th>8</th>\n",
       "      <td>0</td>\n",
       "      <td>1</td>\n",
       "      <td>1.034</td>\n",
       "      <td>Female</td>\n",
       "    </tr>\n",
       "    <tr>\n",
       "      <th>9</th>\n",
       "      <td>0</td>\n",
       "      <td>1</td>\n",
       "      <td>1.045</td>\n",
       "      <td>Female</td>\n",
       "    </tr>\n",
       "  </tbody>\n",
       "</table>\n",
       "</div>"
      ],
      "text/plain": [
       "   sex  diet  weight squirrel_sex\n",
       "0    0     3   1.042       Female\n",
       "1    1     3   1.196         Male\n",
       "2    1     2   1.401         Male\n",
       "3    1     1   1.015         Male\n",
       "4    0     2   1.141       Female\n",
       "5    1     2   1.113         Male\n",
       "6    1     3   1.213         Male\n",
       "7    0     3   1.132       Female\n",
       "8    0     1   1.034       Female\n",
       "9    0     1   1.045       Female"
      ]
     },
     "execution_count": 6,
     "metadata": {},
     "output_type": "execute_result"
    }
   ],
   "source": [
    "#defining function 'squirrel_sex' to transform int64 into strings\n",
    "def squirrel_sex(sex):\n",
    "    if sex == 1:\n",
    "        return 'Male'\n",
    "    else:\n",
    "        return 'Female'\n",
    "#adding new column\n",
    "squirrel['squirrel_sex'] = squirrel['sex'].apply(squirrel_sex)\n",
    "\n",
    "squirrel.head(10)"
   ]
  },
  {
   "cell_type": "markdown",
   "id": "7f084480",
   "metadata": {},
   "source": [
    "Using function 'squirrel_sex' I added additional column which shows '1's and '0's as string variables 'Male' and 'Female' accordingly as it presented on the original figure."
   ]
  },
  {
   "cell_type": "code",
   "execution_count": 7,
   "id": "70c43664",
   "metadata": {},
   "outputs": [
    {
     "data": {
      "text/html": [
       "<div>\n",
       "<style scoped>\n",
       "    .dataframe tbody tr th:only-of-type {\n",
       "        vertical-align: middle;\n",
       "    }\n",
       "\n",
       "    .dataframe tbody tr th {\n",
       "        vertical-align: top;\n",
       "    }\n",
       "\n",
       "    .dataframe thead th {\n",
       "        text-align: right;\n",
       "    }\n",
       "</style>\n",
       "<table border=\"1\" class=\"dataframe\">\n",
       "  <thead>\n",
       "    <tr style=\"text-align: right;\">\n",
       "      <th></th>\n",
       "      <th>sex</th>\n",
       "      <th>diet</th>\n",
       "      <th>weight</th>\n",
       "      <th>squirrel_sex</th>\n",
       "      <th>diet_label</th>\n",
       "    </tr>\n",
       "  </thead>\n",
       "  <tbody>\n",
       "    <tr>\n",
       "      <th>0</th>\n",
       "      <td>0</td>\n",
       "      <td>3</td>\n",
       "      <td>1.042</td>\n",
       "      <td>Female</td>\n",
       "      <td>C</td>\n",
       "    </tr>\n",
       "    <tr>\n",
       "      <th>1</th>\n",
       "      <td>1</td>\n",
       "      <td>3</td>\n",
       "      <td>1.196</td>\n",
       "      <td>Male</td>\n",
       "      <td>C</td>\n",
       "    </tr>\n",
       "    <tr>\n",
       "      <th>2</th>\n",
       "      <td>1</td>\n",
       "      <td>2</td>\n",
       "      <td>1.401</td>\n",
       "      <td>Male</td>\n",
       "      <td>B</td>\n",
       "    </tr>\n",
       "    <tr>\n",
       "      <th>3</th>\n",
       "      <td>1</td>\n",
       "      <td>1</td>\n",
       "      <td>1.015</td>\n",
       "      <td>Male</td>\n",
       "      <td>A</td>\n",
       "    </tr>\n",
       "    <tr>\n",
       "      <th>4</th>\n",
       "      <td>0</td>\n",
       "      <td>2</td>\n",
       "      <td>1.141</td>\n",
       "      <td>Female</td>\n",
       "      <td>B</td>\n",
       "    </tr>\n",
       "    <tr>\n",
       "      <th>5</th>\n",
       "      <td>1</td>\n",
       "      <td>2</td>\n",
       "      <td>1.113</td>\n",
       "      <td>Male</td>\n",
       "      <td>B</td>\n",
       "    </tr>\n",
       "    <tr>\n",
       "      <th>6</th>\n",
       "      <td>1</td>\n",
       "      <td>3</td>\n",
       "      <td>1.213</td>\n",
       "      <td>Male</td>\n",
       "      <td>C</td>\n",
       "    </tr>\n",
       "    <tr>\n",
       "      <th>7</th>\n",
       "      <td>0</td>\n",
       "      <td>3</td>\n",
       "      <td>1.132</td>\n",
       "      <td>Female</td>\n",
       "      <td>C</td>\n",
       "    </tr>\n",
       "    <tr>\n",
       "      <th>8</th>\n",
       "      <td>0</td>\n",
       "      <td>1</td>\n",
       "      <td>1.034</td>\n",
       "      <td>Female</td>\n",
       "      <td>A</td>\n",
       "    </tr>\n",
       "    <tr>\n",
       "      <th>9</th>\n",
       "      <td>0</td>\n",
       "      <td>1</td>\n",
       "      <td>1.045</td>\n",
       "      <td>Female</td>\n",
       "      <td>A</td>\n",
       "    </tr>\n",
       "  </tbody>\n",
       "</table>\n",
       "</div>"
      ],
      "text/plain": [
       "   sex  diet  weight squirrel_sex diet_label\n",
       "0    0     3   1.042       Female          C\n",
       "1    1     3   1.196         Male          C\n",
       "2    1     2   1.401         Male          B\n",
       "3    1     1   1.015         Male          A\n",
       "4    0     2   1.141       Female          B\n",
       "5    1     2   1.113         Male          B\n",
       "6    1     3   1.213         Male          C\n",
       "7    0     3   1.132       Female          C\n",
       "8    0     1   1.034       Female          A\n",
       "9    0     1   1.045       Female          A"
      ]
     },
     "execution_count": 7,
     "metadata": {},
     "output_type": "execute_result"
    }
   ],
   "source": [
    "#defining function 'diet_label' to transform int64 into strings\n",
    "def diet_label(diet):\n",
    "    if diet == 1:\n",
    "        return 'A'\n",
    "    elif diet == 2:\n",
    "        return 'B'\n",
    "    else:\n",
    "        return 'C'\n",
    "#adding new column\n",
    "squirrel['diet_label'] = squirrel['diet'].apply(diet_label)\n",
    "\n",
    "squirrel.head(10)"
   ]
  },
  {
   "cell_type": "markdown",
   "id": "b04918e5",
   "metadata": {},
   "source": [
    "Using function 'diet_label' I added additional column which shows '1's, '2's and '3's as strings 'A', 'B' and 'C' accordingly as it presented on the original figure."
   ]
  },
  {
   "cell_type": "code",
   "execution_count": 8,
   "id": "d273677b",
   "metadata": {},
   "outputs": [
    {
     "name": "stderr",
     "output_type": "stream",
     "text": [
      "C:\\Installed\\Anaconda3\\Lib\\site-packages\\seaborn\\_oldcore.py:1119: FutureWarning: use_inf_as_na option is deprecated and will be removed in a future version. Convert inf values to NaN before operating instead.\n",
      "  with pd.option_context('mode.use_inf_as_na', True):\n",
      "C:\\Installed\\Anaconda3\\Lib\\site-packages\\seaborn\\_oldcore.py:1119: FutureWarning: use_inf_as_na option is deprecated and will be removed in a future version. Convert inf values to NaN before operating instead.\n",
      "  with pd.option_context('mode.use_inf_as_na', True):\n"
     ]
    },
    {
     "data": {
      "text/plain": [
       "Text(0, 0.5, 'Adult Weight/lbs')"
      ]
     },
     "execution_count": 8,
     "metadata": {},
     "output_type": "execute_result"
    },
    {
     "data": {
      "image/png": "[encoded data removed]",
      "text/plain": [
       "<Figure size 640x480 with 1 Axes>"
      ]
     },
     "metadata": {},
     "output_type": "display_data"
    }
   ],
   "source": [
    "#creating a scatter plot with original styling\n",
    "sns.stripplot(\n",
    "    x = 'diet_label', #setting new 'diet_label' columns as x-axis\n",
    "    y = 'weight', #setting 'weight' column as y-axis\n",
    "    hue = 'squirrel_sex', #setting which data column represented on figure will use colors\n",
    "    palette = ['magenta', 'green'], #setting original colors\n",
    "    order = ['A','B','C'], #setting order of scatter plots \n",
    "    data = squirrel, #setting dataset which plot will use\n",
    "    hue_order = ['Female', 'Male'] #setting order of coloring\n",
    "            ).set(title = 'Red Squirrel Diet Study') #setting title\n",
    "#using matplotlib.pyplot library to set names for axes\n",
    "plt.xlabel('Diet Label')\n",
    "plt.ylabel('Adult Weight/lbs')"
   ]
  },
  {
   "cell_type": "markdown",
   "id": "0bda7fbe",
   "metadata": {},
   "source": [
    "Original figure was recreated using seaborn for a plot and using matplotlib.pyplot for setting labels for axes."
   ]
  },
  {
   "cell_type": "code",
   "execution_count": null,
   "id": "4186e4b0",
   "metadata": {},
   "outputs": [],
   "source": []
  }
 ],
 "metadata": {
  "kernelspec": {
   "display_name": "Python 3 (ipykernel)",
   "language": "python",
   "name": "python3"
  },
  "language_info": {
   "codemirror_mode": {
    "name": "ipython",
    "version": 3
   },
   "file_extension": ".py",
   "mimetype": "text/x-python",
   "name": "python",
   "nbconvert_exporter": "python",
   "pygments_lexer": "ipython3",
   "version": "3.11.7"
  }
 },
 "nbformat": 4,
 "nbformat_minor": 5
}
